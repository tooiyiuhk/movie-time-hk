{
 "cells": [
  {
   "cell_type": "code",
   "execution_count": 8,
   "metadata": {},
   "outputs": [],
   "source": [
    "pinecone_api_key = \"pcsk_pPg7v_J3LPtdMeHLhHgpeLruH6dwN3dDPimrK7TVUkR8HFm8c6G6jAkFy2tmTNeb191F4\"\n",
    "pinecone_aws_arn = \"arn:aws:secretsmanager:ap-southeast-2:116981794561:secret:Pinecone_API_key-FQbBoB\"\n",
    "pinecone_index_url = \"https://movie-time-hk-un08756.svc.aped-4627-b74a.pinecone.io\""
   ]
  },
  {
   "cell_type": "code",
   "execution_count": 6,
   "metadata": {},
   "outputs": [],
   "source": [
    "from common import *"
   ]
  },
  {
   "cell_type": "code",
   "execution_count": 9,
   "metadata": {
    "id": "8b465b3d0eca"
   },
   "outputs": [
    {
     "ename": "NameError",
     "evalue": "name 'Pinecone' is not defined",
     "output_type": "error",
     "traceback": [
      "\u001b[0;31m---------------------------------------------------------------------------\u001b[0m",
      "\u001b[0;31mNameError\u001b[0m                                 Traceback (most recent call last)",
      "Cell \u001b[0;32mIn[9], line 1\u001b[0m\n\u001b[0;32m----> 1\u001b[0m pc \u001b[38;5;241m=\u001b[39m \u001b[43mPinecone\u001b[49m(api_key\u001b[38;5;241m=\u001b[39mpinecone_api_key)\n\u001b[1;32m      2\u001b[0m INDEX_NAME \u001b[38;5;241m=\u001b[39m \u001b[38;5;124m\"\u001b[39m\u001b[38;5;124mmovie-time-hk\u001b[39m\u001b[38;5;124m\"\u001b[39m  \u001b[38;5;66;03m# @param {type:\"string\"}\u001b[39;00m\n\u001b[1;32m      3\u001b[0m DISTANCE_METRIC \u001b[38;5;241m=\u001b[39m (\u001b[38;5;124m\"\u001b[39m\u001b[38;5;124mcosine\u001b[39m\u001b[38;5;124m\"\u001b[39m)\n",
      "\u001b[0;31mNameError\u001b[0m: name 'Pinecone' is not defined"
     ]
    }
   ],
   "source": [
    "pc = Pinecone(api_key=pinecone_api_key)\n",
    "INDEX_NAME = \"movie-time-hk\"  # @param {type:\"string\"}\n",
    "DISTANCE_METRIC = (\"cosine\")\n",
    "EMBEDDING_DIMENSION_SIZE = 1024  # @param {\"type\":\"number\",\"placeholder\":\"768\"}\n",
    "CLOUD_PROVIDER = \"aws\"  # @param [\"gcp\", \"aws\", \"azure\"] {allow-input: true}\n",
    "CLOUD_REGION = \"us-east-1\"  # @param {type:\"string\"}"
   ]
  },
  {
   "cell_type": "code",
   "execution_count": null,
   "metadata": {},
   "outputs": [],
   "source": [
    "pc.create_index(\n",
    "    name=INDEX_NAME,\n",
    "    dimension=EMBEDDING_DIMENSION_SIZE,\n",
    "    metric=DISTANCE_METRIC,\n",
    "    spec=ServerlessSpec(cloud=CLOUD_PROVIDER, region=CLOUD_REGION),\n",
    "    deletion_protection=\"disabled\",\n",
    ")"
   ]
  },
  {
   "cell_type": "code",
   "execution_count": 6,
   "metadata": {},
   "outputs": [
    {
     "name": "stdout",
     "output_type": "stream",
     "text": [
      "Running boto3 version: 1.36.26\n"
     ]
    }
   ],
   "source": [
    "boto3.DEFAULT_SESSION = boto3.Session()"
   ]
  },
  {
   "cell_type": "code",
   "execution_count": null,
   "metadata": {},
   "outputs": [],
   "source": [
    "pinecone_secret_filename = \"pinecone-secret.txt\"\n",
    "def get_or_create_secret(filename, secret_name, secret_value):\n",
    "    if os.path.exists(filename):\n",
    "        print(f'File {filename} already exists. Reading secret ARN from the file.')\n",
    "        with open(filename, 'r') as file:\n",
    "            secret_arn = file.read().strip()\n",
    "            print(f'Secret ARN: {secret_arn}')\n",
    "            return secret_arn  # Return the existing secret ARN\n",
    "\n",
    "    # If the file does not exist, create the secret\n",
    "    print(f'File {filename} does not exist. Creating secret.')\n",
    "    secret_arn = create_secret(secret_name, secret_value)\n",
    "\n",
    "    if secret_arn:\n",
    "        # Write the secret ARN to the file\n",
    "        with open(filename, 'w') as file:\n",
    "            file.write(secret_arn)\n",
    "            print(f'Secret ARN saved to {filename}.')\n",
    "\n",
    "    return secret_arn\n",
    "\n",
    "def create_secret(secret_name, secret_value):\n",
    "    # Create a Secrets Manager client\n",
    "    client = boto3.client('secretsmanager', region_name='ap-southeast-2')\n",
    "\n",
    "    try:\n",
    "        # Create the secret\n",
    "        response = client.create_secret(\n",
    "            Name=secret_name,\n",
    "            SecretString=json.dumps(secret_value)\n",
    "        )\n",
    "        print(f'Secret created: {response[\"ARN\"]}')\n",
    "        return response[\"ARN\"]\n",
    "    except Exception as e:\n",
    "        if e.response['Error']['Code'] == 'ResourceExistsException':\n",
    "            print(f'Secret {secret_name} already exists.')\n",
    "        else:\n",
    "            print(f'Error creating secret: {e}')\n",
    "\n",
    "# Define the secret name and value\n",
    "secret_name = 'pineconeApiKey'\n",
    "secret_value = {\n",
    "    'apiKey': pinecone_api_key\n",
    "}\n",
    "\n",
    "# Create and save the secret\n",
    "get_or_create_secret(pinecone_secret_filename, secret_name, secret_value)"
   ]
  },
  {
   "cell_type": "code",
   "execution_count": 5,
   "metadata": {},
   "outputs": [
    {
     "ename": "NameError",
     "evalue": "name 'boto3' is not defined",
     "output_type": "error",
     "traceback": [
      "\u001b[0;31m---------------------------------------------------------------------------\u001b[0m",
      "\u001b[0;31mNameError\u001b[0m                                 Traceback (most recent call last)",
      "Cell \u001b[0;32mIn[5], line 34\u001b[0m\n\u001b[1;32m     31\u001b[0m file_name \u001b[38;5;241m=\u001b[39m \u001b[38;5;124mf\u001b[39m\u001b[38;5;124m'\u001b[39m\u001b[38;5;124mmovies_today_\u001b[39m\u001b[38;5;132;01m{\u001b[39;00mnow\u001b[38;5;241m.\u001b[39myear\u001b[38;5;132;01m}\u001b[39;00m\u001b[38;5;124m_\u001b[39m\u001b[38;5;132;01m{\u001b[39;00mnow\u001b[38;5;241m.\u001b[39mmonth\u001b[38;5;132;01m}\u001b[39;00m\u001b[38;5;124m_\u001b[39m\u001b[38;5;132;01m{\u001b[39;00mnow\u001b[38;5;241m.\u001b[39mday\u001b[38;5;132;01m}\u001b[39;00m\u001b[38;5;124m.csv\u001b[39m\u001b[38;5;124m'\u001b[39m\n\u001b[1;32m     33\u001b[0m \u001b[38;5;66;03m# Create the bucket\u001b[39;00m\n\u001b[0;32m---> 34\u001b[0m \u001b[43mcreate_bucket\u001b[49m\u001b[43m(\u001b[49m\u001b[43mbucket_name\u001b[49m\u001b[43m)\u001b[49m\n\u001b[1;32m     36\u001b[0m \u001b[38;5;66;03m# Upload the file to the bucket\u001b[39;00m\n\u001b[1;32m     37\u001b[0m upload_file_to_bucket(bucket_name, file_name)\n",
      "Cell \u001b[0;32mIn[5], line 2\u001b[0m, in \u001b[0;36mcreate_bucket\u001b[0;34m(bucket_name)\u001b[0m\n\u001b[1;32m      1\u001b[0m \u001b[38;5;28;01mdef\u001b[39;00m \u001b[38;5;21mcreate_bucket\u001b[39m(bucket_name):\n\u001b[0;32m----> 2\u001b[0m     s3 \u001b[38;5;241m=\u001b[39m \u001b[43mboto3\u001b[49m\u001b[38;5;241m.\u001b[39mclient(\u001b[38;5;124m'\u001b[39m\u001b[38;5;124ms3\u001b[39m\u001b[38;5;124m'\u001b[39m, region_name\u001b[38;5;241m=\u001b[39m\u001b[38;5;124m'\u001b[39m\u001b[38;5;124map-southeast-2\u001b[39m\u001b[38;5;124m'\u001b[39m)\n\u001b[1;32m      3\u001b[0m     \u001b[38;5;28;01mtry\u001b[39;00m:\n\u001b[1;32m      4\u001b[0m         \u001b[38;5;66;03m# Create the S3 bucket\u001b[39;00m\n\u001b[1;32m      5\u001b[0m         response \u001b[38;5;241m=\u001b[39m s3\u001b[38;5;241m.\u001b[39mcreate_bucket(\n\u001b[1;32m      6\u001b[0m             Bucket\u001b[38;5;241m=\u001b[39mbucket_name,\n\u001b[1;32m      7\u001b[0m             CreateBucketConfiguration\u001b[38;5;241m=\u001b[39m{\n\u001b[1;32m      8\u001b[0m                 \u001b[38;5;124m'\u001b[39m\u001b[38;5;124mLocationConstraint\u001b[39m\u001b[38;5;124m'\u001b[39m: \u001b[38;5;124m'\u001b[39m\u001b[38;5;124map-southeast-2\u001b[39m\u001b[38;5;124m'\u001b[39m\n\u001b[1;32m      9\u001b[0m             }\n\u001b[1;32m     10\u001b[0m         )\n",
      "\u001b[0;31mNameError\u001b[0m: name 'boto3' is not defined"
     ]
    }
   ],
   "source": [
    "def create_bucket(bucket_name):\n",
    "    s3 = boto3.client('s3', region_name='ap-southeast-2')\n",
    "    try:\n",
    "        # Create the S3 bucket\n",
    "        response = s3.create_bucket(\n",
    "            Bucket=bucket_name,\n",
    "            CreateBucketConfiguration={\n",
    "                'LocationConstraint': 'ap-southeast-2'\n",
    "            }\n",
    "        )\n",
    "        print(f'Bucket created: {response[\"Location\"]}')\n",
    "        return response[\"Location\"]\n",
    "    except ClientError as e:\n",
    "        if e.response['Error']['Code'] == 'BucketAlreadyOwnedByYou':\n",
    "            print(f'Bucket {bucket_name} already exists and is owned by you.')\n",
    "        else:\n",
    "            print(f'Error creating bucket: {e}')\n",
    "\n",
    "def upload_file_to_bucket(bucket_name, file_name):\n",
    "    s3 = boto3.client('s3', region_name='ap-southeast-2')\n",
    "    try:\n",
    "        # Upload the file to the bucket\n",
    "        s3.upload_file(file_name, bucket_name, file_name)\n",
    "        print(f'File {file_name} uploaded to bucket {bucket_name}.')\n",
    "    except ClientError as e:\n",
    "        print(f'Error uploading file: {e}')\n",
    "\n",
    "# Define the bucket name and the file name\n",
    "now = datetime.now()\n",
    "bucket_name = f'movie-time-data-{now.year}-{now.month}-{now.day}' \n",
    "file_name = f'movies_today_{now.year}_{now.month}_{now.day}.csv'\n",
    "\n",
    "# Create the bucket\n",
    "create_bucket(bucket_name)\n",
    "\n",
    "# Upload the file to the bucket\n",
    "upload_file_to_bucket(bucket_name, file_name)"
   ]
  },
  {
   "cell_type": "code",
   "execution_count": null,
   "metadata": {},
   "outputs": [],
   "source": [
    "bedrock = boto3.client('bedrock-agent', region_name='ap-southeast-2')\n",
    "\n",
    "knowledge_base_config = {\n",
    "    \"type\": \"VECTOR\",\n",
    "    \"vectorKnowledgeBaseConfiguration\": {\n",
    "        \"embeddingModelArn\": \"arn:aws:bedrock:ap-southeast-2::foundation-model/amazon.titan-embed-text-v2:0\",\n",
    "        'embeddingModelConfiguration': {\n",
    "            'bedrockEmbeddingModelConfiguration': {\n",
    "                'dimensions': 1024,\n",
    "                # 'embeddingDataType': 'BINARY'\n",
    "            }\n",
    "        },\n",
    "\n",
    "    },\n",
    "}\n",
    "\n",
    "storageConfiguration = {\n",
    "    \"type\": \"PINECONE\",\n",
    "    \"pineconeConfiguration\" : {\n",
    "        \"connectionString\": pinecone_index_url,\n",
    "        \"credentialsSecretArn\": pinecone_aws_arn,\n",
    "        \"fieldMapping\": {\n",
    "            \"metadataField\": \"metadata\",\n",
    "            \"textField\": \"text\",\n",
    "        }\n",
    "    }\n",
    "}\n",
    "response = bedrock.create_knowledge_base(\n",
    "    name=\"PineconKnowledgeBase2\",\n",
    "    description=\"Knowledge base using S3 and Pinecone\",\n",
    "    knowledgeBaseConfiguration=knowledge_base_config,\n",
    "    roleArn=\"arn:aws:iam::116981794561:role/service-role/AmazonBedrockExecutionRoleForKnowledgeBase_xi4h1\",\n",
    "    storageConfiguration=storageConfiguration,\n",
    ")\n",
    "print(response)\n",
    "knowledgeBase = response[\"knowledgeBase\"]"
   ]
  },
  {
   "cell_type": "code",
   "execution_count": 32,
   "metadata": {},
   "outputs": [],
   "source": [
    "create_ds_response = bedrock.create_data_source(\n",
    "    name = \"movie-time-data-2025-2-22\",\n",
    "    description = \"data for movie time\",\n",
    "    knowledgeBaseId = knowledgeBase['knowledgeBaseId'],\n",
    "    dataSourceConfiguration = {\n",
    "        \"type\": \"S3\",\n",
    "        \"s3Configuration\": {\n",
    "            \"bucketArn\": \"arn:aws:s3:::movie-time-data-2025-2-22\"\n",
    "        }\n",
    "    },\n",
    ")\n",
    "ds = create_ds_response[\"dataSource\"]"
   ]
  },
  {
   "cell_type": "code",
   "execution_count": null,
   "metadata": {},
   "outputs": [],
   "source": [
    "bedrock.get_data_source(knowledgeBaseId = knowledgeBase['knowledgeBaseId'], dataSourceId = ds[\"dataSourceId\"])"
   ]
  },
  {
   "cell_type": "code",
   "execution_count": 34,
   "metadata": {},
   "outputs": [],
   "source": [
    "start_job_response = bedrock.start_ingestion_job(knowledgeBaseId = knowledgeBase['knowledgeBaseId'], dataSourceId = ds[\"dataSourceId\"])"
   ]
  },
  {
   "cell_type": "code",
   "execution_count": 23,
   "metadata": {},
   "outputs": [],
   "source": [
    "# Initialize the Bedrock Agent Runtime client\n",
    "bedrock_agent_runtime = boto3.client('bedrock-agent-runtime', region_name='ap-southeast-2')\n",
    "model = \"Mistral Large (24.02)\"\n",
    "model_arn = f'arn:aws:bedrock:ap-southeast-2::foundation-model/mistral.mistral-large-2402-v1:0'"
   ]
  },
  {
   "cell_type": "code",
   "execution_count": 24,
   "metadata": {},
   "outputs": [],
   "source": [
    "def ask_bedrock_llm_with_knowledge_base(query: str, model_arn: str, kb_id: str) -> str:\n",
    "    response = bedrock_agent_runtime.retrieve_and_generate(\n",
    "        input={\n",
    "            'text': query\n",
    "        },\n",
    "        retrieveAndGenerateConfiguration={\n",
    "            'type': 'KNOWLEDGE_BASE',\n",
    "            'knowledgeBaseConfiguration': {\n",
    "                'knowledgeBaseId': kb_id,\n",
    "                'modelArn': model_arn\n",
    "            }\n",
    "        },\n",
    "    )\n",
    "\n",
    "    return response"
   ]
  },
  {
   "cell_type": "code",
   "execution_count": 42,
   "metadata": {},
   "outputs": [
    {
     "name": "stdout",
     "output_type": "stream",
     "text": [
      "---------- Generated using Mistral Large (24.02):\n",
      "Here are some movies screening today: \"My Best Bet\" at CANDY PARK BY CINEMA CITY (愉景新城) at 22:05, \"Living in Two Worlds\" at 百老匯電影中心 at 19:45, \"The Sinking of the Lisbon Maru\" at CGV Cinemas 澳門星皓廣場 at 18:15, \"(G)I-DLE WORLD TOUR [iDOL] in CINEMAS\" at K11 Art House at 17:15 and Festival Grand Cinema at 17:30, \"LITTLE RED SWEET\" at STAR Cinema at 17:00 and MCL 德福戲院 at 16:15, and \"Ha Ha Ha Happy New Year!!\" at 嘉禾黃埔 at 16:40.\n",
      "---------- The citations for the response generated by Mistral Large (24.02):\n",
      "[\", threatre='百老匯電影中心')] Not today My Best Bet - [Screening(date=datetime.datetime(2025, 2, 22, 22, 5, 0, 83147), threatre='CANDY PARK BY CINEMA CITY (愉景新城)')] Not today Living in Two Worlds - [Screening(date=datetime.datetime(2025, 2, 22, 19, 45, 0, 83147), threatre='百老匯電影中心')] Not today Not today Not today Not today Not today Not today Not today Not today Not today Not today Not today Not today Not today Not today The Sinking of the Lisbon Maru - [Screening(date=datetime.datetime(2025, 2, 22, 18, 15, 0, 83147), threatre='CGV Cinemas 澳門星皓廣場')] Not today (G)I-DLE WORLD TOUR [iDOL] in CINEMAS - [Screening(date=datetime.datetime(2025, 2, 22, 17, 15, 0, 83147), threatre='K11 Art House'), Screening(date=datetime.datetime(2025, 2, 22, 17, 30, 0, 83147), threatre='Festival Grand Cinema')] The\", \", 55, 0, 83147), threatre='Cinema City 柴灣')] LITTLE RED SWEET - [Screening(date=datetime.datetime(2025, 2, 22, 17, 0, 0, 83147), threatre='STAR Cinema'), Screening(date=datetime.datetime(2025, 2, 22, 16, 15, 0, 83147), threatre='MCL 德福戲院')] Ha Ha Ha Happy New Year!! - [Screening(date=datetime.datetime(2025, 2, 22, 16, 40, 0, 83147), threatre='嘉禾黃埔')] Not today Not today Not today Not today Happyend - [Screening(date=datetime.datetime(2025, 2, 22, 17, 30, 0, 83147), threatre='百老匯電影中心'), Screening(date=datetime.datetime(2025, 2, 22, 22, 0, 0, 83147), threatre='百老匯電影中心')] Not today My Best Bet - [Screening(date=datetime.datetime(2025, 2, 22, 22, 5, 0, 83147), threatre='CANDY PARK BY CINEMA CITY (\"]\n",
      "\n"
     ]
    }
   ],
   "source": [
    "query = \"can you recommend some movie for today?\"\n",
    "\n",
    "\n",
    "response = ask_bedrock_llm_with_knowledge_base(query, model_arn, knowledgeBase['knowledgeBaseId'])\n",
    "generated_text = response['output']['text']\n",
    "citations = response[\"citations\"]\n",
    "contexts = []\n",
    "for citation in citations:\n",
    "    retrievedReferences = citation[\"retrievedReferences\"]\n",
    "    for reference in retrievedReferences:\n",
    "        contexts.append(reference[\"content\"][\"text\"])\n",
    "print(f\"---------- Generated using {model}:\")\n",
    "print(generated_text )\n",
    "print(f'---------- The citations for the response generated by {model}:')\n",
    "print(contexts)\n",
    "print()"
   ]
  },
  {
   "cell_type": "code",
   "execution_count": null,
   "metadata": {},
   "outputs": [],
   "source": [
    "\n",
    "def invoke_agent(agent_id, agent_alias_id, prompt, session_id):\n",
    "    response = bedrock_agent_runtime.invoke_agent(\n",
    "        agentId=agent_id,\n",
    "        agentAliasId=agent_alias_id,\n",
    "        sessionId=session_id,\n",
    "        inputText=prompt\n",
    "    )\n",
    "\n",
    "    completion = \"\"\n",
    "    for event in response.get('completion'):\n",
    "        chunk = event['chunk']\n",
    "        completion += chunk['bytes'].decode()\n",
    "\n",
    "    return completion\n",
    "\n",
    "# Example usage\n",
    "agent_id = 'HH9XK3W3AY'\n",
    "agent_alias_id = 'SMD0SLDZKR'\n",
    "session_id = 'unique_session_id'\n",
    "prompt = \"What's the current time?\"\n",
    "\n",
    "response = invoke_agent(agent_id, agent_alias_id, prompt, session_id)\n",
    "print(f\"Agent response: {response}\")\n"
   ]
  }
 ],
 "metadata": {
  "colab": {
   "name": "rag_engine_pinecone.ipynb",
   "toc_visible": true
  },
  "environment": {
   "kernel": "python3",
   "name": "tf2-gpu.2-15.m125",
   "type": "gcloud",
   "uri": "us-docker.pkg.dev/deeplearning-platform-release/gcr.io/tf2-gpu.2-15:m125"
  },
  "kernelspec": {
   "display_name": "3.12.7",
   "language": "python",
   "name": "python3"
  },
  "language_info": {
   "codemirror_mode": {
    "name": "ipython",
    "version": 3
   },
   "file_extension": ".py",
   "mimetype": "text/x-python",
   "name": "python",
   "nbconvert_exporter": "python",
   "pygments_lexer": "ipython3",
   "version": "3.11.6"
  }
 },
 "nbformat": 4,
 "nbformat_minor": 4
}
