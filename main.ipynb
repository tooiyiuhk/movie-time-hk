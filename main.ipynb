{
 "cells": [
  {
   "cell_type": "code",
   "execution_count": 4,
   "metadata": {
    "id": "tFy3H3aPgx12"
   },
   "outputs": [
    {
     "name": "stdout",
     "output_type": "stream",
     "text": [
      "\u001b[33m  WARNING: The script tb-gcp-uploader is installed in '/home/jupyter/.local/bin' which is not on PATH.\n",
      "  Consider adding this directory to PATH or, if you prefer to suppress this warning, use --no-warn-script-location.\u001b[0m\u001b[33m\n",
      "\u001b[0m\u001b[31mERROR: pip's dependency resolver does not currently take into account all the packages that are installed. This behaviour is the source of the following dependency conflicts.\n",
      "apache-beam 2.46.0 requires grpcio!=1.48.0,<2,>=1.33.1, but you have grpcio 1.48.0 which is incompatible.\n",
      "apache-beam 2.46.0 requires protobuf<4,>3.12.2, but you have protobuf 4.25.5 which is incompatible.\n",
      "google-api-python-client 1.8.0 requires google-api-core<2dev,>=1.13.0, but you have google-api-core 2.23.0 which is incompatible.\n",
      "google-cloud-bigtable 1.7.3 requires protobuf<4.0.0dev, but you have protobuf 4.25.5 which is incompatible.\n",
      "google-cloud-datastore 1.15.5 requires protobuf<4.0.0dev, but you have protobuf 4.25.5 which is incompatible.\n",
      "google-cloud-language 1.3.2 requires protobuf<4.0.0dev, but you have protobuf 4.25.5 which is incompatible.\n",
      "google-cloud-pubsub 2.23.1 requires grpcio<2.0dev,>=1.51.3, but you have grpcio 1.48.0 which is incompatible.\n",
      "google-cloud-videointelligence 1.16.3 requires protobuf<4.0.0dev, but you have protobuf 4.25.5 which is incompatible.\n",
      "kfp 2.5.0 requires protobuf<4,>=3.13.0, but you have protobuf 4.25.5 which is incompatible.\n",
      "kfp-pipeline-spec 0.2.2 requires protobuf<4,>=3.13.0, but you have protobuf 4.25.5 which is incompatible.\n",
      "pinecone 5.4.0 requires pinecone-plugin-inference<3.0.0,>=2.0.0, but you have pinecone-plugin-inference 1.1.0 which is incompatible.\n",
      "tensorboard 2.15.2 requires grpcio>=1.48.2, but you have grpcio 1.48.0 which is incompatible.\n",
      "tensorflow-metadata 0.14.0 requires protobuf<4,>=3.7, but you have protobuf 4.25.5 which is incompatible.\n",
      "tensorflow-transform 0.14.0 requires protobuf<4,>=3.7, but you have protobuf 4.25.5 which is incompatible.\u001b[0m\u001b[31m\n",
      "\u001b[0mNote: you may need to restart the kernel to use updated packages.\n"
     ]
    }
   ],
   "source": [
    "%pip install --upgrade --user --quiet google-cloud-aiplatform google-cloud-secret-manager \"pinecone-client[grpc]\""
   ]
  },
  {
   "cell_type": "code",
   "execution_count": 23,
   "metadata": {
    "id": "XRvKdaPDTznN",
    "tags": []
   },
   "outputs": [
    {
     "data": {
      "text/plain": [
       "{'status': 'ok', 'restart': True}"
      ]
     },
     "execution_count": 23,
     "metadata": {},
     "output_type": "execute_result"
    }
   ],
   "source": [
    "import IPython\n",
    "\n",
    "app = IPython.Application.instance()\n",
    "app.kernel.do_shutdown(True)"
   ]
  },
  {
   "cell_type": "markdown",
   "metadata": {
    "id": "SbmM4z7FOBpM"
   },
   "source": [
    "<div class=\"alert alert-block alert-warning\">\n",
    "<b>⚠️ The kernel is going to restart. Wait until it's finished before continuing to the next step. ⚠️</b>\n",
    "</div>\n"
   ]
  },
  {
   "cell_type": "code",
   "execution_count": 2,
   "metadata": {
    "id": "Nqwi-5ufWp_B",
    "tags": []
   },
   "outputs": [],
   "source": [
    "import os\n",
    "\n",
    "import vertexai\n",
    "\n",
    "PROJECT_ID = \"[your-project-id]\"  # @param {type:\"string\", isTemplate: true}\n",
    "if PROJECT_ID == \"[your-project-id]\":\n",
    "    PROJECT_ID = str(os.environ.get(\"GOOGLE_CLOUD_PROJECT\"))\n",
    "\n",
    "LOCATION = os.environ.get(\"GOOGLE_CLOUD_REGION\", \"us-central1\")\n",
    "\n",
    "vertexai.init(project=PROJECT_ID, location=LOCATION)"
   ]
  },
  {
   "cell_type": "code",
   "execution_count": 2,
   "metadata": {
    "id": "95f06ed30a65",
    "tags": []
   },
   "outputs": [],
   "source": [
    "from pinecone import PodSpec, ServerlessSpec\n",
    "from pinecone.grpc import PineconeGRPC as Pinecone\n",
    "\n",
    "# Set API Key\n",
    "PINECONE_API_KEY = \"\"  # @param {type:\"string\"}\n",
    "\n",
    "pc = Pinecone(api_key=PINECONE_API_KEY)"
   ]
  },
  {
   "cell_type": "code",
   "execution_count": 4,
   "metadata": {
    "id": "8b465b3d0eca"
   },
   "outputs": [],
   "source": [
    "# Index Configs\n",
    "INDEX_NAME = \"movie-time-hk\"  # @param {type:\"string\"}\n",
    "\n",
    "# Choose a distance metric\n",
    "DISTANCE_METRIC = (\n",
    "    \"cosine\"  # @param [\"cosine\", \"euclidean\", \"dotproduct\"] {allow-input: true}\n",
    ")\n",
    "\n",
    "EMBEDDING_DIMENSION_SIZE = 768  # @param {\"type\":\"number\",\"placeholder\":\"768\"}\n",
    "\n",
    "CLOUD_PROVIDER = \"aws\"  # @param [\"gcp\", \"aws\", \"azure\"] {allow-input: true}\n",
    "\n",
    "CLOUD_REGION = \"us-east-1\"  # @param {type:\"string\"}\n",
    "\n",
    "\n",
    "# Create the index\n",
    "pc.create_index(\n",
    "    name=INDEX_NAME,\n",
    "    dimension=EMBEDDING_DIMENSION_SIZE,\n",
    "    metric=DISTANCE_METRIC,\n",
    "    spec=ServerlessSpec(cloud=CLOUD_PROVIDER, region=CLOUD_REGION),\n",
    "    deletion_protection=\"disabled\",\n",
    ")"
   ]
  },
  {
   "cell_type": "code",
   "execution_count": 5,
   "metadata": {
    "id": "535dbdfff303"
   },
   "outputs": [],
   "source": [
    "SECRET_ID = \"movie-time\"  # @param {type:\"string\"}"
   ]
  },
  {
   "cell_type": "code",
   "execution_count": 7,
   "metadata": {
    "id": "217cf0e74015"
   },
   "outputs": [
    {
     "name": "stdout",
     "output_type": "stream",
     "text": [
      "Created secret and added first version: projects/240822342204/secrets/movie-time-hk/versions/1\n"
     ]
    }
   ],
   "source": [
    "from google.cloud import secretmanager\n",
    "\n",
    "client = secretmanager.SecretManagerServiceClient()\n",
    "\n",
    "# Create the secret.\n",
    "secret = client.create_secret(\n",
    "    parent=client.common_project_path(PROJECT_ID),\n",
    "    secret_id=SECRET_ID,\n",
    "    secret=secretmanager.Secret(\n",
    "        replication=secretmanager.Replication(\n",
    "            automatic=secretmanager.Replication.Automatic()\n",
    "        )\n",
    "    ),\n",
    ")\n",
    "\n",
    "# Add API key to the secret payload.\n",
    "secret_version = client.add_secret_version(\n",
    "    parent=secret.name,\n",
    "    payload=secretmanager.SecretPayload(data=PINECONE_API_KEY.encode(\"UTF-8\")),\n",
    ")\n",
    "\n",
    "print(f\"Created secret and added first version: {secret_version.name}\")"
   ]
  },
  {
   "cell_type": "code",
   "execution_count": 8,
   "metadata": {
    "id": "04e493024500"
   },
   "outputs": [],
   "source": [
    "project_numbers = !gcloud projects list --filter=\"PROJECT_ID={PROJECT_ID}\" --format=\"value(PROJECT_NUMBER)\"\n",
    "PROJECT_NUMBER = project_numbers[0]\n",
    "\n",
    "SERVICE_ACCOUNT = f\"service-{PROJECT_NUMBER}@gcp-sa-vertex-rag.iam.gserviceaccount.com\""
   ]
  },
  {
   "cell_type": "markdown",
   "metadata": {
    "id": "EdvJRUWRNGHE"
   },
   "source": [
    "## Create a RAG corpus"
   ]
  },
  {
   "cell_type": "code",
   "execution_count": 5,
   "metadata": {
    "id": "b9ad5442bd4e"
   },
   "outputs": [],
   "source": [
    "from vertexai.preview import rag\n",
    "from vertexai.preview.generative_models import GenerativeModel, Tool"
   ]
  },
  {
   "cell_type": "code",
   "execution_count": 11,
   "metadata": {
    "id": "9a0e7d8bafeb"
   },
   "outputs": [
    {
     "name": "stdout",
     "output_type": "stream",
     "text": [
      "Created RAG Corpus resource: projects/240822342204/locations/us-central1/ragCorpora/4611686018427387904\n"
     ]
    }
   ],
   "source": [
    "vector_db = rag.Pinecone()\n",
    "\n",
    "DISPLAY_NAME = \"movie-time-hk\"  # @param  {type:\"string\"}\n",
    "\n",
    "rag_corpus = rag.create_corpus(display_name=DISPLAY_NAME, vector_db=vector_db)\n",
    "print(f\"Created RAG Corpus resource: {rag_corpus.name}\")"
   ]
  },
  {
   "cell_type": "code",
   "execution_count": 15,
   "metadata": {
    "id": "84f0c2df5238"
   },
   "outputs": [
    {
     "name": "stdout",
     "output_type": "stream",
     "text": [
      "Updated RAG Corpus: projects/240822342204/locations/us-central1/ragCorpora/4611686018427387904\n"
     ]
    }
   ],
   "source": [
    "PINECONE_INDEX_NAME = \"movie-time-hk\"  # @param  {type:\"string\"}\n",
    "\n",
    "vector_db = rag.Pinecone(index_name=PINECONE_INDEX_NAME, api_key=secret_version.name)\n",
    "\n",
    "updated_rag_corpora = rag.update_corpus(\n",
    "    corpus_name=rag_corpus.name, vector_db=vector_db\n",
    ")\n",
    "print(f\"Updated RAG Corpus: {rag_corpus.name}\")"
   ]
  },
  {
   "cell_type": "markdown",
   "metadata": {
    "id": "c1396e74d1cb"
   },
   "source": [
    "#### Create a RAG Corpus with Pinecone information"
   ]
  },
  {
   "cell_type": "code",
   "execution_count": null,
   "metadata": {
    "id": "53865b3ea33e"
   },
   "outputs": [],
   "source": [
    "# Name of your created Pinecone Index\n",
    "PINECONE_INDEX_NAME = \"\"  # @param  {type:\"string\"}\n",
    "# Construct your Pinecone config.\n",
    "vector_db = rag.Pinecone(index_name=PINECONE_INDEX_NAME, api_key=secret_version.name)\n",
    "\n",
    "# Name your corpus\n",
    "DISPLAY_NAME = \"\"  # @param  {type:\"string\"}\n",
    "\n",
    "# Create RAG Corpus\n",
    "rag_corpus = rag.create_corpus(display_name=DISPLAY_NAME, vector_db=vector_db)\n",
    "print(f\"Created RAG Corpus resource: {rag_corpus.name}\")"
   ]
  },
  {
   "cell_type": "code",
   "execution_count": 6,
   "metadata": {
    "id": "7bab0e824c3d"
   },
   "outputs": [
    {
     "name": "stdout",
     "output_type": "stream",
     "text": [
      "Uploaded file to resource: projects/240822342204/locations/us-central1/ragCorpora/4611686018427387904/ragFiles/5307904854105563513\n"
     ]
    }
   ],
   "source": [
    "rag_file = rag.upload_file(\n",
    "    corpus_name=\"projects/240822342204/locations/us-central1/ragCorpora/4611686018427387904\",\n",
    "    path=\"movie_list_for_testing.txt\",\n",
    "    display_name=\"movie_list_for_testing.txt\",\n",
    "    description=\"my test\",\n",
    ")\n",
    "print(f\"Uploaded file to resource: {rag_file.name}\")"
   ]
  },
  {
   "cell_type": "markdown",
   "metadata": {
    "id": "346ceb446e7c"
   },
   "source": [
    "## Add RAG corpus to context "
   ]
  },
  {
   "cell_type": "code",
   "execution_count": 9,
   "metadata": {
    "id": "fec72ac982c3"
   },
   "outputs": [],
   "source": [
    "rag_resource = rag.RagResource(\n",
    "    rag_corpus=\"projects/240822342204/locations/us-central1/ragCorpora/4611686018427387904\",\n",
    ")\n",
    "\n",
    "rag_retrieval_tool = Tool.from_retrieval(\n",
    "    retrieval=rag.Retrieval(\n",
    "        source=rag.VertexRagStore(\n",
    "            rag_resources=[rag_resource],  # Currently only 1 corpus is allowed.\n",
    "            similarity_top_k=10,\n",
    "            vector_distance_threshold=0.4,\n",
    "        ),\n",
    "    )\n",
    ")\n",
    "\n",
    "rag_model = GenerativeModel(\"gemini-1.5-flash\", tools=[rag_retrieval_tool])"
   ]
  },
  {
   "cell_type": "code",
   "execution_count": 10,
   "metadata": {
    "id": "cc0ee39e50f6"
   },
   "outputs": [
    {
     "data": {
      "text/plain": [
       "'The movies currently screening are: The Apprentice, Cesium Fallout, Wicked, Anora, The Wild Robot, Ooops2!, The Substance, Love Lies, URANUS2324, Hello,Love,Again, The Monk And The Gun, Four Trails, The Manor, Paris, Texas, Gladiator 2, RED ONE, Possession Street, Wish Comes True, Venom: The Last Dance, Matched, Shutter. \\n'"
      ]
     },
     "execution_count": 10,
     "metadata": {},
     "output_type": "execute_result"
    }
   ],
   "source": [
    "GENERATE_CONTENT_PROMPT = \"what are the movies now screening\"  # @param {type:\"string\"}\n",
    "\n",
    "response = rag_model.generate_content(GENERATE_CONTENT_PROMPT)\n",
    "\n",
    "response.candidates[0].content.parts[0].text"
   ]
  },
  {
   "cell_type": "markdown",
   "metadata": {
    "id": "2a4e033321ad"
   },
   "source": [
    "## Cleaning up\n",
    "\n",
    "Clean up resources created in this notebook."
   ]
  },
  {
   "cell_type": "code",
   "execution_count": null,
   "metadata": {
    "id": "ea74a96756a3"
   },
   "outputs": [],
   "source": [
    "delete_rag_corpus = False  # @param {type:\"boolean\"}\n",
    "\n",
    "if delete_rag_corpus:\n",
    "    rag.delete_corpus(name=rag_corpus.name)"
   ]
  }
 ],
 "metadata": {
  "colab": {
   "name": "rag_engine_pinecone.ipynb",
   "toc_visible": true
  },
  "environment": {
   "kernel": "python3",
   "name": "tf2-gpu.2-15.m125",
   "type": "gcloud",
   "uri": "us-docker.pkg.dev/deeplearning-platform-release/gcr.io/tf2-gpu.2-15:m125"
  },
  "kernelspec": {
   "display_name": "Python 3",
   "language": "python",
   "name": "python3"
  },
  "language_info": {
   "codemirror_mode": {
    "name": "ipython",
    "version": 3
   },
   "file_extension": ".py",
   "mimetype": "text/x-python",
   "name": "python",
   "nbconvert_exporter": "python",
   "pygments_lexer": "ipython3",
   "version": "3.10.15"
  }
 },
 "nbformat": 4,
 "nbformat_minor": 4
}
