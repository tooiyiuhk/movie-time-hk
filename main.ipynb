{
 "cells": [
  {
   "cell_type": "code",
   "execution_count": null,
   "metadata": {
    "id": "XRvKdaPDTznN",
    "tags": []
   },
   "outputs": [
    {
     "data": {
      "text/plain": [
       "{'status': 'ok', 'restart': True}"
      ]
     },
     "execution_count": 23,
     "metadata": {},
     "output_type": "execute_result"
    }
   ],
   "source": [
    "import IPython\n",
    "\n",
    "app = IPython.Application.instance()\n",
    "\n",
    "app.kernel.do_shutdown(True)"
   ]
  },
  {
   "cell_type": "code",
   "execution_count": 1,
   "metadata": {
    "id": "95f06ed30a65",
    "tags": []
   },
   "outputs": [],
   "source": [
    "from pinecone import PodSpec, ServerlessSpec\n",
    "from pinecone.grpc import PineconeGRPC as Pinecone\n",
    "\n",
    "# Set API Key\n",
    "PINECONE_API_KEY = \"\"  # @param {type:\"string\"}\n",
    "\n",
    "pc = Pinecone(api_key=PINECONE_API_KEY)"
   ]
  },
  {
   "cell_type": "code",
   "execution_count": null,
   "metadata": {
    "id": "8b465b3d0eca"
   },
   "outputs": [],
   "source": [
    "# Index Configs\n",
    "INDEX_NAME = \"movie-time-hk\"  # @param {type:\"string\"}\n",
    "\n",
    "# Choose a distance metric\n",
    "DISTANCE_METRIC = (\n",
    "    \"cosine\"  # @param [\"cosine\", \"euclidean\", \"dotproduct\"] {allow-input: true}\n",
    ")\n",
    "\n",
    "EMBEDDING_DIMENSION_SIZE = 1024  # @param {\"type\":\"number\",\"placeholder\":\"768\"}\n",
    "\n",
    "CLOUD_PROVIDER = \"aws\"  # @param [\"gcp\", \"aws\", \"azure\"] {allow-input: true}\n",
    "\n",
    "CLOUD_REGION = \"us-east-1\"  # @param {type:\"string\"}\n",
    "\n",
    "\n",
    "# Create the index\n",
    "pc.create_index(\n",
    "    name=INDEX_NAME,\n",
    "    dimension=EMBEDDING_DIMENSION_SIZE,\n",
    "    metric=DISTANCE_METRIC,\n",
    "    spec=ServerlessSpec(cloud=CLOUD_PROVIDER, region=CLOUD_REGION),\n",
    "    deletion_protection=\"disabled\",\n",
    ")"
   ]
  },
  {
   "cell_type": "code",
   "execution_count": 1,
   "metadata": {},
   "outputs": [
    {
     "name": "stderr",
     "output_type": "stream",
     "text": [
      "\n",
      "[notice] A new release of pip is available: 24.2 -> 25.0.1\n",
      "[notice] To update, run: python.exe -m pip install --upgrade pip\n"
     ]
    }
   ],
   "source": [
    "!pip3 install -qU boto3"
   ]
  },
  {
   "cell_type": "code",
   "execution_count": 5,
   "metadata": {},
   "outputs": [
    {
     "name": "stdout",
     "output_type": "stream",
     "text": [
      "Running boto3 version: 1.36.21\n"
     ]
    }
   ],
   "source": [
    "import boto3\n",
    "import sys\n",
    "print('Running boto3 version:', boto3.__version__)\n",
    "boto3.DEFAULT_SESSION = boto3.Session()"
   ]
  },
  {
   "cell_type": "code",
   "execution_count": null,
   "metadata": {},
   "outputs": [],
   "source": [
    "import json\n",
    "import os\n",
    "\n",
    "pinecone_secret_filename = \"\"\n",
    "def get_or_create_secret(filename, secret_name, secret_value):\n",
    "    if os.path.exists(filename):\n",
    "        print(f'File {filename} already exists. Reading secret ARN from the file.')\n",
    "        with open(filename, 'r') as file:\n",
    "            secret_arn = file.read().strip()\n",
    "            print(f'Secret ARN: {secret_arn}')\n",
    "            return secret_arn  # Return the existing secret ARN\n",
    "\n",
    "    # If the file does not exist, create the secret\n",
    "    print(f'File {filename} does not exist. Creating secret.')\n",
    "    secret_arn = create_secret(secret_name, secret_value)\n",
    "\n",
    "    if secret_arn:\n",
    "        # Write the secret ARN to the file\n",
    "        with open(filename, 'w') as file:\n",
    "            file.write(secret_arn)\n",
    "            print(f'Secret ARN saved to {filename}.')\n",
    "\n",
    "    return secret_arn\n",
    "\n",
    "def create_secret(secret_name, secret_value):\n",
    "    # Create a Secrets Manager client\n",
    "    client = boto3.client('secretsmanager', region_name='ap-southeast-2')\n",
    "\n",
    "    try:\n",
    "        # Create the secret\n",
    "        response = client.create_secret(\n",
    "            Name=secret_name,\n",
    "            SecretString=json.dumps(secret_value)\n",
    "        )\n",
    "        print(f'Secret created: {response[\"ARN\"]}')\n",
    "        return response[\"ARN\"]\n",
    "    except Exception as e:\n",
    "        if e.response['Error']['Code'] == 'ResourceExistsException':\n",
    "            print(f'Secret {secret_name} already exists.')\n",
    "        else:\n",
    "            print(f'Error creating secret: {e}')\n",
    "\n",
    "# Define the secret name and value\n",
    "secret_name = ''\n",
    "secret_value = {\n",
    "    'apiKey':   # Replace with your actual API key\n",
    "}\n",
    "\n",
    "# Create and save the secret\n",
    "get_or_create_secret(pinecone_secret_filename, secret_name, secret_value)"
   ]
  },
  {
   "cell_type": "code",
   "execution_count": null,
   "metadata": {},
   "outputs": [],
   "source": [
    "from botocore.exceptions import ClientError\n",
    "\n",
    "def create_bucket(bucket_name):\n",
    "    s3 = boto3.client('s3', region_name='ap-southeast-2')\n",
    "    try:\n",
    "        # Create the S3 bucket\n",
    "        response = s3.create_bucket(\n",
    "            Bucket=bucket_name,\n",
    "            CreateBucketConfiguration={\n",
    "                'LocationConstraint': 'ap-southeast-2'\n",
    "            }\n",
    "        )\n",
    "        print(f'Bucket created: {response[\"Location\"]}')\n",
    "        return response[\"Location\"]\n",
    "    except ClientError as e:\n",
    "        if e.response['Error']['Code'] == 'BucketAlreadyOwnedByYou':\n",
    "            print(f'Bucket {bucket_name} already exists and is owned by you.')\n",
    "        else:\n",
    "            print(f'Error creating bucket: {e}')\n",
    "\n",
    "def upload_file_to_bucket(bucket_name, file_name):\n",
    "    s3 = boto3.client('s3', region_name='ap-southeast-2')\n",
    "    try:\n",
    "        # Upload the file to the bucket\n",
    "        s3.upload_file(file_name, bucket_name, file_name)\n",
    "        print(f'File {file_name} uploaded to bucket {bucket_name}.')\n",
    "    except ClientError as e:\n",
    "        print(f'Error uploading file: {e}')\n",
    "\n",
    "# Define the bucket name and the file name\n",
    "bucket_name = 'movie-time-data' \n",
    "file_name = 'movies_today_2025_2_16.csv'\n",
    "\n",
    "# Create the bucket\n",
    "create_bucket(bucket_name)\n",
    "\n",
    "# Upload the file to the bucket\n",
    "upload_file_to_bucket(bucket_name, file_name)"
   ]
  },
  {
   "cell_type": "code",
   "execution_count": null,
   "metadata": {},
   "outputs": [],
   "source": [
    "bedrock = boto3.client('bedrock-agent', region_name='ap-southeast-2')\n",
    "\n",
    "knowledge_base_config = {\n",
    "    \"type\": \"VECTOR\",\n",
    "    \"vectorKnowledgeBaseConfiguration\": {\n",
    "        \"embeddingModelArn\": \"\",\n",
    "        'embeddingModelConfiguration': {\n",
    "            'bedrockEmbeddingModelConfiguration': {\n",
    "                'dimensions': 1024,\n",
    "            }\n",
    "        },\n",
    "\n",
    "    },\n",
    "}\n",
    "\n",
    "storageConfiguration = {\n",
    "    \"type\": \"PINECONE\",\n",
    "    \"pineconeConfiguration\" : {\n",
    "        \"connectionString\": \"\",\n",
    "        \"credentialsSecretArn\": \"\",\n",
    "        \"fieldMapping\": {\n",
    "            \"metadataField\": \"metadata\",\n",
    "            \"textField\": \"text\",\n",
    "        }\n",
    "    }\n",
    "}\n",
    "response = bedrock.create_knowledge_base(\n",
    "    name=\"PineconeKnowledgeBase\",\n",
    "    description=\"Knowledge base using S3 and Pinecone\",\n",
    "    knowledgeBaseConfiguration=knowledge_base_config,\n",
    "    roleArn=\"\",\n",
    "    storageConfiguration=storageConfiguration,\n",
    ")\n",
    "print(response)\n",
    "knowledgeBase = response[\"knowledgeBase\"]"
   ]
  },
  {
   "cell_type": "code",
   "execution_count": null,
   "metadata": {},
   "outputs": [],
   "source": [
    "create_ds_response = bedrock.create_data_source(\n",
    "    name = \"pineconeMoviedataSource\",\n",
    "    description = \"data for movie time\",\n",
    "    knowledgeBaseId = knowledgeBase['knowledgeBaseId'],\n",
    "    dataSourceConfiguration = {\n",
    "        \"type\": \"S3\",\n",
    "        \"s3Configuration\": {\n",
    "            \"bucketArn\": \"\"\n",
    "        }\n",
    "    },\n",
    ")\n",
    "ds = create_ds_response[\"dataSource\"]"
   ]
  },
  {
   "cell_type": "code",
   "execution_count": null,
   "metadata": {},
   "outputs": [],
   "source": [
    "bedrock.get_data_source(knowledgeBaseId = knowledgeBase['knowledgeBaseId'], dataSourceId = ds[\"dataSourceId\"])"
   ]
  },
  {
   "cell_type": "code",
   "execution_count": 35,
   "metadata": {},
   "outputs": [],
   "source": [
    "start_job_response = bedrock.start_ingestion_job(knowledgeBaseId = knowledgeBase['knowledgeBaseId'], dataSourceId = ds[\"dataSourceId\"])"
   ]
  },
  {
   "cell_type": "code",
   "execution_count": 36,
   "metadata": {},
   "outputs": [
    {
     "name": "stdout",
     "output_type": "stream",
     "text": [
      "{'dataSourceId': 'QFF9EIV7MG', 'ingestionJobId': 'XIAPK6AHFT', 'knowledgeBaseId': 'SXXNMXKPPL', 'startedAt': datetime.datetime(2025, 2, 16, 9, 12, 0, 537551, tzinfo=tzutc()), 'statistics': {'numberOfDocumentsDeleted': 0, 'numberOfDocumentsFailed': 0, 'numberOfDocumentsScanned': 0, 'numberOfMetadataDocumentsModified': 0, 'numberOfMetadataDocumentsScanned': 0, 'numberOfModifiedDocumentsIndexed': 0, 'numberOfNewDocumentsIndexed': 0}, 'status': 'STARTING', 'updatedAt': datetime.datetime(2025, 2, 16, 9, 12, 0, 537551, tzinfo=tzutc())}\n"
     ]
    }
   ],
   "source": [
    "job = start_job_response[\"ingestionJob\"]\n",
    "print(job)"
   ]
  },
  {
   "cell_type": "code",
   "execution_count": 64,
   "metadata": {},
   "outputs": [
    {
     "name": "stdout",
     "output_type": "stream",
     "text": [
      "{'ResponseMetadata': {'RequestId': 'cbf8b501-7ca2-4279-bd0e-b300f7483387', 'HTTPStatusCode': 200, 'HTTPHeaders': {'date': 'Sun, 16 Feb 2025 09:44:15 GMT', 'content-type': 'application/json', 'content-length': '11011', 'connection': 'keep-alive', 'x-amzn-requestid': 'cbf8b501-7ca2-4279-bd0e-b300f7483387'}, 'RetryAttempts': 0}, 'modelSummaries': [{'modelArn': 'arn:aws:bedrock:ap-southeast-2::foundation-model/amazon.titan-text-lite-v1:0:4k', 'modelId': 'amazon.titan-text-lite-v1:0:4k', 'modelName': 'Titan Text G1 - Lite', 'providerName': 'Amazon', 'inputModalities': ['TEXT'], 'outputModalities': ['TEXT'], 'responseStreamingSupported': True, 'customizationsSupported': [], 'inferenceTypesSupported': ['PROVISIONED'], 'modelLifecycle': {'status': 'ACTIVE'}}, {'modelArn': 'arn:aws:bedrock:ap-southeast-2::foundation-model/amazon.titan-text-lite-v1', 'modelId': 'amazon.titan-text-lite-v1', 'modelName': 'Titan Text G1 - Lite', 'providerName': 'Amazon', 'inputModalities': ['TEXT'], 'outputModalities': ['TEXT'], 'responseStreamingSupported': True, 'customizationsSupported': [], 'inferenceTypesSupported': ['ON_DEMAND'], 'modelLifecycle': {'status': 'ACTIVE'}}, {'modelArn': 'arn:aws:bedrock:ap-southeast-2::foundation-model/amazon.titan-text-express-v1:0:8k', 'modelId': 'amazon.titan-text-express-v1:0:8k', 'modelName': 'Titan Text G1 - Express', 'providerName': 'Amazon', 'inputModalities': ['TEXT'], 'outputModalities': ['TEXT'], 'responseStreamingSupported': True, 'customizationsSupported': [], 'inferenceTypesSupported': ['PROVISIONED'], 'modelLifecycle': {'status': 'ACTIVE'}}, {'modelArn': 'arn:aws:bedrock:ap-southeast-2::foundation-model/amazon.titan-text-express-v1', 'modelId': 'amazon.titan-text-express-v1', 'modelName': 'Titan Text G1 - Express', 'providerName': 'Amazon', 'inputModalities': ['TEXT'], 'outputModalities': ['TEXT'], 'responseStreamingSupported': True, 'customizationsSupported': [], 'inferenceTypesSupported': ['ON_DEMAND'], 'modelLifecycle': {'status': 'ACTIVE'}}, {'modelArn': 'arn:aws:bedrock:ap-southeast-2::foundation-model/amazon.titan-embed-image-v1:0', 'modelId': 'amazon.titan-embed-image-v1:0', 'modelName': 'Titan Multimodal Embeddings G1', 'providerName': 'Amazon', 'inputModalities': ['TEXT', 'IMAGE'], 'outputModalities': ['EMBEDDING'], 'customizationsSupported': [], 'inferenceTypesSupported': ['PROVISIONED'], 'modelLifecycle': {'status': 'ACTIVE'}}, {'modelArn': 'arn:aws:bedrock:ap-southeast-2::foundation-model/amazon.titan-embed-image-v1', 'modelId': 'amazon.titan-embed-image-v1', 'modelName': 'Titan Multimodal Embeddings G1', 'providerName': 'Amazon', 'inputModalities': ['TEXT', 'IMAGE'], 'outputModalities': ['EMBEDDING'], 'customizationsSupported': [], 'inferenceTypesSupported': ['ON_DEMAND'], 'modelLifecycle': {'status': 'ACTIVE'}}, {'modelArn': 'arn:aws:bedrock:ap-southeast-2::foundation-model/amazon.titan-embed-text-v2:0', 'modelId': 'amazon.titan-embed-text-v2:0', 'modelName': 'Titan Text Embeddings V2', 'providerName': 'Amazon', 'inputModalities': ['TEXT'], 'outputModalities': ['EMBEDDING'], 'responseStreamingSupported': False, 'customizationsSupported': [], 'inferenceTypesSupported': ['ON_DEMAND'], 'modelLifecycle': {'status': 'ACTIVE'}}, {'modelArn': 'arn:aws:bedrock:ap-southeast-2::foundation-model/anthropic.claude-3-sonnet-20240229-v1:0:28k', 'modelId': 'anthropic.claude-3-sonnet-20240229-v1:0:28k', 'modelName': 'Claude 3 Sonnet', 'providerName': 'Anthropic', 'inputModalities': ['TEXT', 'IMAGE'], 'outputModalities': ['TEXT'], 'responseStreamingSupported': True, 'customizationsSupported': [], 'inferenceTypesSupported': ['PROVISIONED'], 'modelLifecycle': {'status': 'ACTIVE'}}, {'modelArn': 'arn:aws:bedrock:ap-southeast-2::foundation-model/anthropic.claude-3-sonnet-20240229-v1:0:200k', 'modelId': 'anthropic.claude-3-sonnet-20240229-v1:0:200k', 'modelName': 'Claude 3 Sonnet', 'providerName': 'Anthropic', 'inputModalities': ['TEXT', 'IMAGE'], 'outputModalities': ['TEXT'], 'responseStreamingSupported': True, 'customizationsSupported': [], 'inferenceTypesSupported': ['PROVISIONED'], 'modelLifecycle': {'status': 'ACTIVE'}}, {'modelArn': 'arn:aws:bedrock:ap-southeast-2::foundation-model/anthropic.claude-3-sonnet-20240229-v1:0', 'modelId': 'anthropic.claude-3-sonnet-20240229-v1:0', 'modelName': 'Claude 3 Sonnet', 'providerName': 'Anthropic', 'inputModalities': ['TEXT', 'IMAGE'], 'outputModalities': ['TEXT'], 'responseStreamingSupported': True, 'customizationsSupported': [], 'inferenceTypesSupported': ['ON_DEMAND'], 'modelLifecycle': {'status': 'ACTIVE'}}, {'modelArn': 'arn:aws:bedrock:ap-southeast-2::foundation-model/anthropic.claude-3-haiku-20240307-v1:0:48k', 'modelId': 'anthropic.claude-3-haiku-20240307-v1:0:48k', 'modelName': 'Claude 3 Haiku', 'providerName': 'Anthropic', 'inputModalities': ['TEXT', 'IMAGE'], 'outputModalities': ['TEXT'], 'responseStreamingSupported': True, 'customizationsSupported': [], 'inferenceTypesSupported': ['PROVISIONED'], 'modelLifecycle': {'status': 'ACTIVE'}}, {'modelArn': 'arn:aws:bedrock:ap-southeast-2::foundation-model/anthropic.claude-3-haiku-20240307-v1:0:200k', 'modelId': 'anthropic.claude-3-haiku-20240307-v1:0:200k', 'modelName': 'Claude 3 Haiku', 'providerName': 'Anthropic', 'inputModalities': ['TEXT', 'IMAGE'], 'outputModalities': ['TEXT'], 'responseStreamingSupported': True, 'customizationsSupported': [], 'inferenceTypesSupported': ['PROVISIONED'], 'modelLifecycle': {'status': 'ACTIVE'}}, {'modelArn': 'arn:aws:bedrock:ap-southeast-2::foundation-model/anthropic.claude-3-haiku-20240307-v1:0', 'modelId': 'anthropic.claude-3-haiku-20240307-v1:0', 'modelName': 'Claude 3 Haiku', 'providerName': 'Anthropic', 'inputModalities': ['TEXT', 'IMAGE'], 'outputModalities': ['TEXT'], 'responseStreamingSupported': True, 'customizationsSupported': [], 'inferenceTypesSupported': ['ON_DEMAND'], 'modelLifecycle': {'status': 'ACTIVE'}}, {'modelArn': 'arn:aws:bedrock:ap-southeast-2::foundation-model/anthropic.claude-3-5-sonnet-20240620-v1:0:18k', 'modelId': 'anthropic.claude-3-5-sonnet-20240620-v1:0:18k', 'modelName': 'Claude 3.5 Sonnet', 'providerName': 'Anthropic', 'inputModalities': ['TEXT', 'IMAGE'], 'outputModalities': ['TEXT'], 'responseStreamingSupported': True, 'customizationsSupported': [], 'inferenceTypesSupported': ['PROVISIONED'], 'modelLifecycle': {'status': 'ACTIVE'}}, {'modelArn': 'arn:aws:bedrock:ap-southeast-2::foundation-model/anthropic.claude-3-5-sonnet-20240620-v1:0:51k', 'modelId': 'anthropic.claude-3-5-sonnet-20240620-v1:0:51k', 'modelName': 'Claude 3.5 Sonnet', 'providerName': 'Anthropic', 'inputModalities': ['TEXT', 'IMAGE'], 'outputModalities': ['TEXT'], 'responseStreamingSupported': True, 'customizationsSupported': [], 'inferenceTypesSupported': ['PROVISIONED'], 'modelLifecycle': {'status': 'ACTIVE'}}, {'modelArn': 'arn:aws:bedrock:ap-southeast-2::foundation-model/anthropic.claude-3-5-sonnet-20240620-v1:0:200k', 'modelId': 'anthropic.claude-3-5-sonnet-20240620-v1:0:200k', 'modelName': 'Claude 3.5 Sonnet', 'providerName': 'Anthropic', 'inputModalities': ['TEXT', 'IMAGE'], 'outputModalities': ['TEXT'], 'responseStreamingSupported': True, 'customizationsSupported': [], 'inferenceTypesSupported': ['PROVISIONED'], 'modelLifecycle': {'status': 'ACTIVE'}}, {'modelArn': 'arn:aws:bedrock:ap-southeast-2::foundation-model/anthropic.claude-3-5-sonnet-20240620-v1:0', 'modelId': 'anthropic.claude-3-5-sonnet-20240620-v1:0', 'modelName': 'Claude 3.5 Sonnet', 'providerName': 'Anthropic', 'inputModalities': ['TEXT', 'IMAGE'], 'outputModalities': ['TEXT'], 'responseStreamingSupported': True, 'customizationsSupported': [], 'inferenceTypesSupported': ['INFERENCE_PROFILE'], 'modelLifecycle': {'status': 'ACTIVE'}}, {'modelArn': 'arn:aws:bedrock:ap-southeast-2::foundation-model/anthropic.claude-3-5-sonnet-20241022-v2:0', 'modelId': 'anthropic.claude-3-5-sonnet-20241022-v2:0', 'modelName': 'Claude 3.5 Sonnet v2', 'providerName': 'Anthropic', 'inputModalities': ['TEXT', 'IMAGE'], 'outputModalities': ['TEXT'], 'responseStreamingSupported': True, 'customizationsSupported': [], 'inferenceTypesSupported': ['ON_DEMAND', 'INFERENCE_PROFILE'], 'modelLifecycle': {'status': 'ACTIVE'}}, {'modelArn': 'arn:aws:bedrock:ap-southeast-2::foundation-model/cohere.embed-english-v3', 'modelId': 'cohere.embed-english-v3', 'modelName': 'Embed English', 'providerName': 'Cohere', 'inputModalities': ['TEXT'], 'outputModalities': ['EMBEDDING'], 'responseStreamingSupported': False, 'customizationsSupported': [], 'inferenceTypesSupported': ['ON_DEMAND'], 'modelLifecycle': {'status': 'ACTIVE'}}, {'modelArn': 'arn:aws:bedrock:ap-southeast-2::foundation-model/cohere.embed-multilingual-v3', 'modelId': 'cohere.embed-multilingual-v3', 'modelName': 'Embed Multilingual', 'providerName': 'Cohere', 'inputModalities': ['TEXT'], 'outputModalities': ['EMBEDDING'], 'responseStreamingSupported': False, 'customizationsSupported': [], 'inferenceTypesSupported': ['ON_DEMAND'], 'modelLifecycle': {'status': 'ACTIVE'}}, {'modelArn': 'arn:aws:bedrock:ap-southeast-2::foundation-model/mistral.mistral-7b-instruct-v0:2', 'modelId': 'mistral.mistral-7b-instruct-v0:2', 'modelName': 'Mistral 7B Instruct', 'providerName': 'Mistral AI', 'inputModalities': ['TEXT'], 'outputModalities': ['TEXT'], 'responseStreamingSupported': True, 'customizationsSupported': [], 'inferenceTypesSupported': ['ON_DEMAND'], 'modelLifecycle': {'status': 'ACTIVE'}}, {'modelArn': 'arn:aws:bedrock:ap-southeast-2::foundation-model/mistral.mixtral-8x7b-instruct-v0:1', 'modelId': 'mistral.mixtral-8x7b-instruct-v0:1', 'modelName': 'Mixtral 8x7B Instruct', 'providerName': 'Mistral AI', 'inputModalities': ['TEXT'], 'outputModalities': ['TEXT'], 'responseStreamingSupported': True, 'customizationsSupported': [], 'inferenceTypesSupported': ['ON_DEMAND'], 'modelLifecycle': {'status': 'ACTIVE'}}, {'modelArn': 'arn:aws:bedrock:ap-southeast-2::foundation-model/mistral.mistral-large-2402-v1:0', 'modelId': 'mistral.mistral-large-2402-v1:0', 'modelName': 'Mistral Large (24.02)', 'providerName': 'Mistral AI', 'inputModalities': ['TEXT'], 'outputModalities': ['TEXT'], 'responseStreamingSupported': True, 'customizationsSupported': [], 'inferenceTypesSupported': ['ON_DEMAND'], 'modelLifecycle': {'status': 'ACTIVE'}}]}\n"
     ]
    }
   ],
   "source": [
    "response = boto3.client('bedrock', region_name='ap-southeast-2').list_foundation_models()\n",
    "print(response)"
   ]
  },
  {
   "cell_type": "code",
   "execution_count": 65,
   "metadata": {},
   "outputs": [],
   "source": [
    "# Initialize the Bedrock Agent Runtime client\n",
    "bedrock_agent_runtime = boto3.client('bedrock-agent-runtime', region_name='ap-southeast-2')\n",
    "model = \"Mistral Large (24.02)\"\n",
    "model_arn = f'arn:aws:bedrock:ap-southeast-2::foundation-model/mistral.mistral-large-2402-v1:0'"
   ]
  },
  {
   "cell_type": "code",
   "execution_count": 57,
   "metadata": {},
   "outputs": [],
   "source": [
    "def ask_bedrock_llm_with_knowledge_base(query: str, model_arn: str, kb_id: str) -> str:\n",
    "    response = bedrock_agent_runtime.retrieve_and_generate(\n",
    "        input={\n",
    "            'text': query\n",
    "        },\n",
    "        retrieveAndGenerateConfiguration={\n",
    "            'type': 'KNOWLEDGE_BASE',\n",
    "            'knowledgeBaseConfiguration': {\n",
    "                'knowledgeBaseId': kb_id,\n",
    "                'modelArn': model_arn\n",
    "            }\n",
    "        },\n",
    "    )\n",
    "\n",
    "    return response"
   ]
  },
  {
   "cell_type": "code",
   "execution_count": 67,
   "metadata": {},
   "outputs": [
    {
     "name": "stdout",
     "output_type": "stream",
     "text": [
      "---------- Generated using Mistral Large (24.02):\n",
      "Here are some movies showing today: \"Farewell To My Concubine (4K Restored Version)\", \"Bridget Jones: Mad About the Boy\", \"The Motive and the Cue (NT Live 2025)\", \"THERE'S STILL TOMORROW\", \"K-Family Affairs\", \"Moana 2\", and \"Maria\".\n",
      "---------- The citations for the response generated by Mistral Large (24.02):\n",
      "['0, 761017), \\'threatre\\': \\'百老匯電影中心\\'}]\"\\r Farewell To My Concubine (4K Restored Version),/movie/e7dfd3d3-4c84-4348-8e41-2e94d26a9105/Farewell_To_My_Concubine_(4K_Restored_Version),\"[{\\'date\\': datetime.datetime(2025, 2, 16, 14, 0, 0, 761017), \\'threatre\\': \\'K11 Art House\\'}]\"\\r Bridget Jones: Mad About the Boy,/movie/0b5d270b-748c-4f18-aa13-6aef90c06c74/Bridget_Jones:_Mad_About_the_Boy,\"[{\\'date\\': datetime.datetime(2025, 2, 16, 0, 20, 0, 761017), \\'threatre\\': \\'巴黎倫敦紐約米蘭戲院\\'}]\"\\r The Motive and the Cue (NT Live 2025),/movie/cd41412e-7cb7-416f-93b3-0dfa83af1d74/The_Motive_and_the_Cue_(NT_Live_2025),\"[{\\'date\\': datetime.datetime(2025, 2, 16', ', 13, 0, 0, 761017), \\'threatre\\': \\'PREMIERE ELEMENTS\\'}]\"\\r THERE\\'S STILL TOMORROW,/movie/5431c646-28c6-4acb-9768-b05272f3ad3e/THERE\\'S_STILL_TOMORROW,\"[{\\'date\\': datetime.datetime(2025, 2, 16, 21, 50, 0, 761017), \\'threatre\\': \\'百老匯電影中心\\'}]\"\\r K-Family Affairs,/movie/25346a91-1f36-4508-928d-2e60e0419eb9/K-Family_Affairs,\"[{\\'date\\': datetime.datetime(2025, 2, 16, 17, 10, 0, 761017), \\'threatre\\': \\'百老匯電影中心\\'}]\"\\r Moana 2,/movie/c84319f0-12c7-43e5-b6e1-a21394baf393/Moana_2,\"[{\\'date\\': datetime.datetime(2025, 2, 16, 16, 35, 0, 761017), \\'threatre\\': \\'影滙戲院\\'}]\"\\r The Shawshank', '\\'}]\"\\r The Motive and the Cue (NT Live 2025),/movie/cd41412e-7cb7-416f-93b3-0dfa83af1d74/The_Motive_and_the_Cue_(NT_Live_2025),\"[{\\'date\\': datetime.datetime(2025, 2, 16, 14, 0, 0, 761017), \\'threatre\\': \\'PREMIERE ELEMENTS\\'}]\"\\r Maria,/movie/ae50b185-6381-4947-b68b-92427ed40a83/Maria,\"[{\\'date\\': datetime.datetime(2025, 2, 16, 15, 30, 0, 761017), \\'threatre\\': \\'MOViE MOViE Pacific Place (金鐘)\\'}, {\\'date\\': datetime.datetime(2025, 2, 16, 17, 15, 0, 761017), \\'threatre\\': \\'MOViE MOViE Cityplaza (太古城)\\'}, {\\'date\\': datetime.datetime(2025, 2, 16, 17, 5, 0, 761017), \\'threatre\\': \\'PREMIERE ELEMENTS\\'}]\"\\r Millenium Mambo (4K Restored']\n",
      "\n"
     ]
    }
   ],
   "source": [
    "query = \"can you recommend movies showing today?\"\n",
    "\n",
    "\n",
    "response = ask_bedrock_llm_with_knowledge_base(query, model_arn, knowledgeBase['knowledgeBaseId'])\n",
    "generated_text = response['output']['text']\n",
    "citations = response[\"citations\"]\n",
    "contexts = []\n",
    "for citation in citations:\n",
    "    retrievedReferences = citation[\"retrievedReferences\"]\n",
    "    for reference in retrievedReferences:\n",
    "        contexts.append(reference[\"content\"][\"text\"])\n",
    "print(f\"---------- Generated using {model}:\")\n",
    "print(generated_text )\n",
    "print(f'---------- The citations for the response generated by {model}:')\n",
    "print(contexts)\n",
    "print()"
   ]
  },
  {
   "cell_type": "code",
   "execution_count": null,
   "metadata": {},
   "outputs": [],
   "source": []
  }
 ],
 "metadata": {
  "colab": {
   "name": "rag_engine_pinecone.ipynb",
   "toc_visible": true
  },
  "environment": {
   "kernel": "python3",
   "name": "tf2-gpu.2-15.m125",
   "type": "gcloud",
   "uri": "us-docker.pkg.dev/deeplearning-platform-release/gcr.io/tf2-gpu.2-15:m125"
  },
  "kernelspec": {
   "display_name": "3.12.7",
   "language": "python",
   "name": "python3"
  },
  "language_info": {
   "codemirror_mode": {
    "name": "ipython",
    "version": 3
   },
   "file_extension": ".py",
   "mimetype": "text/x-python",
   "name": "python",
   "nbconvert_exporter": "python",
   "pygments_lexer": "ipython3",
   "version": "3.12.7"
  }
 },
 "nbformat": 4,
 "nbformat_minor": 4
}
