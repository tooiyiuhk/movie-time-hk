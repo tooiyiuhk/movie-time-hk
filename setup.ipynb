{
 "cells": [
  {
   "cell_type": "code",
   "execution_count": 40,
   "metadata": {},
   "outputs": [],
   "source": [
    "from common import *\n",
    "from pinecone.grpc import PineconeGRPC as Pinecone\n",
    "import boto3\n",
    "import sys\n",
    "import json\n",
    "import os\n",
    "from botocore.exceptions import ClientError\n",
    "from datetime import datetime as now"
   ]
  },
  {
   "cell_type": "code",
   "execution_count": 30,
   "metadata": {
    "id": "8b465b3d0eca"
   },
   "outputs": [],
   "source": [
    "pc = Pinecone(api_key=pinecone_api_key)\n",
    "INDEX_NAME = f\"movie-time-hk-{now.year}-{now.month}-{now.day}\"  # @param {type:\"string\"}\n",
    "DISTANCE_METRIC = (\"cosine\")\n",
    "EMBEDDING_DIMENSION_SIZE = 1024  # @param {\"type\":\"number\",\"placeholder\":\"768\"}\n",
    "CLOUD_PROVIDER = \"aws\"  # @param [\"gcp\", \"aws\", \"azure\"] {allow-input: true}\n",
    "CLOUD_REGION = \"us-east-1\"  # @param {type:\"string\"}"
   ]
  },
  {
   "cell_type": "code",
   "execution_count": null,
   "metadata": {},
   "outputs": [],
   "source": [
    "pc.create_index(\n",
    "    name=INDEX_NAME,\n",
    "    dimension=EMBEDDING_DIMENSION_SIZE,\n",
    "    metric=DISTANCE_METRIC,\n",
    "    spec=ServerlessSpec(cloud=CLOUD_PROVIDER, region=CLOUD_REGION),\n",
    "    deletion_protection=\"disabled\",\n",
    ")"
   ]
  },
  {
   "cell_type": "code",
   "execution_count": 32,
   "metadata": {},
   "outputs": [],
   "source": [
    "boto3.DEFAULT_SESSION = boto3.Session()"
   ]
  },
  {
   "cell_type": "code",
   "execution_count": null,
   "metadata": {},
   "outputs": [],
   "source": [
    "pinecone_secret_filename = \"pinecone-secret.txt\"\n",
    "def get_or_create_secret(filename, secret_name, secret_value):\n",
    "    if os.path.exists(filename):\n",
    "        print(f'File {filename} already exists. Reading secret ARN from the file.')\n",
    "        with open(filename, 'r') as file:\n",
    "            secret_arn = file.read().strip()\n",
    "            print(f'Secret ARN: {secret_arn}')\n",
    "            return secret_arn  # Return the existing secret ARN\n",
    "\n",
    "    # If the file does not exist, create the secret\n",
    "    print(f'File {filename} does not exist. Creating secret.')\n",
    "    secret_arn = create_secret(secret_name, secret_value)\n",
    "\n",
    "    if secret_arn:\n",
    "        # Write the secret ARN to the file\n",
    "        with open(filename, 'w') as file:\n",
    "            file.write(secret_arn)\n",
    "            print(f'Secret ARN saved to {filename}.')\n",
    "\n",
    "    return secret_arn\n",
    "\n",
    "def create_secret(secret_name, secret_value):\n",
    "    # Create a Secrets Manager client\n",
    "    client = boto3.client('secretsmanager', region_name='ap-southeast-2')\n",
    "\n",
    "    try:\n",
    "        # Create the secret\n",
    "        response = client.create_secret(\n",
    "            Name=secret_name,\n",
    "            SecretString=json.dumps(secret_value)\n",
    "        )\n",
    "        print(f'Secret created: {response[\"ARN\"]}')\n",
    "        return response[\"ARN\"]\n",
    "    except Exception as e:\n",
    "        if e.response['Error']['Code'] == 'ResourceExistsException':\n",
    "            print(f'Secret {secret_name} already exists.')\n",
    "        else:\n",
    "            print(f'Error creating secret: {e}')\n",
    "\n",
    "# Define the secret name and value\n",
    "secret_name = 'pineconeApiKey'\n",
    "secret_value = {\n",
    "    'apiKey': pinecone_api_key\n",
    "}\n",
    "\n",
    "# Create and save the secret\n",
    "get_or_create_secret(pinecone_secret_filename, secret_name, secret_value)"
   ]
  },
  {
   "cell_type": "code",
   "execution_count": 15,
   "metadata": {},
   "outputs": [
    {
     "name": "stdout",
     "output_type": "stream",
     "text": [
      "Bucket created: http://movie-time-data-2025-2-23.s3.amazonaws.com/\n",
      "File movies_today_2025_2_23.csv uploaded to bucket movie-time-data-2025-2-23.\n"
     ]
    }
   ],
   "source": [
    "def create_bucket(bucket_name):\n",
    "    s3 = boto3.client('s3', region_name='ap-southeast-2')\n",
    "    try:\n",
    "        # Create the S3 bucket\n",
    "        response = s3.create_bucket(\n",
    "            Bucket=bucket_name,\n",
    "            CreateBucketConfiguration={\n",
    "                'LocationConstraint': 'ap-southeast-2'\n",
    "            }\n",
    "        )\n",
    "        print(f'Bucket created: {response[\"Location\"]}')\n",
    "        return response[\"Location\"]\n",
    "    except ClientError as e:\n",
    "        if e.response['Error']['Code'] == 'BucketAlreadyOwnedByYou':\n",
    "            print(f'Bucket {bucket_name} already exists and is owned by you.')\n",
    "        else:\n",
    "            print(f'Error creating bucket: {e}')\n",
    "\n",
    "def upload_file_to_bucket(bucket_name, file_name):\n",
    "    s3 = boto3.client('s3', region_name='ap-southeast-2')\n",
    "    try:\n",
    "        # Upload the file to the bucket\n",
    "        s3.upload_file(file_name, bucket_name, file_name)\n",
    "        print(f'File {file_name} uploaded to bucket {bucket_name}.')\n",
    "    except ClientError as e:\n",
    "        print(f'Error uploading file: {e}')\n",
    "\n",
    "# Define the bucket name and the file name\n",
    "now = datetime.now()\n",
    "bucket_name = f'movie-time-data-{now.year}-{now.month}-{now.day}' \n",
    "file_name = f'movies_today_{now.year}_{now.month}_{now.day}.csv'\n",
    "\n",
    "# Create the bucket\n",
    "create_bucket(bucket_name)\n",
    "\n",
    "# Upload the file to the bucket\n",
    "upload_file_to_bucket(bucket_name, file_name)"
   ]
  },
  {
   "cell_type": "code",
   "execution_count": null,
   "metadata": {},
   "outputs": [],
   "source": [
    "bedrock = boto3.client('bedrock-agent', region_name='ap-southeast-2')\n",
    "\n",
    "knowledge_base_config = {\n",
    "    \"type\": \"VECTOR\",\n",
    "    \"vectorKnowledgeBaseConfiguration\": {\n",
    "        \"embeddingModelArn\": \"arn:aws:bedrock:ap-southeast-2::foundation-model/amazon.titan-embed-text-v2:0\",\n",
    "        'embeddingModelConfiguration': {\n",
    "            'bedrockEmbeddingModelConfiguration': {\n",
    "                'dimensions': 1024,\n",
    "                # 'embeddingDataType': 'BINARY'\n",
    "            }\n",
    "        },\n",
    "\n",
    "    },\n",
    "}\n",
    "\n",
    "storageConfiguration = {\n",
    "    \"type\": \"PINECONE\",\n",
    "    \"pineconeConfiguration\" : {\n",
    "        \"connectionString\": pinecone_index_url,\n",
    "        \"credentialsSecretArn\": pinecone_aws_arn,\n",
    "        \"fieldMapping\": {\n",
    "            \"metadataField\": \"metadata\",\n",
    "            \"textField\": \"text\",\n",
    "        }\n",
    "    }\n",
    "}\n",
    "response = bedrock.create_knowledge_base(\n",
    "    name=f\"PineconKnowledgeBase{now.year}{now.month}{now.day}\",\n",
    "    description=\"Knowledge base using S3 and Pinecone\",\n",
    "    knowledgeBaseConfiguration=knowledge_base_config,\n",
    "    roleArn=\"arn:aws:iam::116981794561:role/service-role/AmazonBedrockExecutionRoleForKnowledgeBase_xi4h1\",\n",
    "    storageConfiguration=storageConfiguration,\n",
    ")\n",
    "print(response)\n",
    "knowledgeBase = response[\"knowledgeBase\"]"
   ]
  },
  {
   "cell_type": "code",
   "execution_count": null,
   "metadata": {},
   "outputs": [],
   "source": [
    "create_ds_response = bedrock.create_data_source(\n",
    "    name = f'movie-time-data-{now.year}-{now.month}-{now.day}',\n",
    "    description = \"movie time\",\n",
    "    knowledgeBaseId = knowledgeBase['knowledgeBaseId'],\n",
    "    dataSourceConfiguration = {\n",
    "        \"type\": \"S3\",\n",
    "        \"s3Configuration\": {\n",
    "            \"bucketArn\": f\"arn:aws:s3:::movie-time-data-{now.year}-{now.month}-{now.day}\"\n",
    "        }\n",
    "    },\n",
    ")\n",
    "ds = create_ds_response[\"dataSource\"]"
   ]
  },
  {
   "cell_type": "code",
   "execution_count": null,
   "metadata": {},
   "outputs": [],
   "source": [
    "bedrock.get_data_source(knowledgeBaseId = knowledgeBase['knowledgeBaseId'], dataSourceId = ds[\"dataSourceId\"])\n",
    "start_job_response = bedrock.start_ingestion_job(knowledgeBaseId = knowledgeBase['knowledgeBaseId'], dataSourceId = ds[\"dataSourceId\"])"
   ]
  },
  {
   "cell_type": "code",
   "execution_count": 37,
   "metadata": {},
   "outputs": [],
   "source": [
    "# Initialize the Bedrock Agent Runtime client\n",
    "bedrock_agent_runtime = boto3.client('bedrock-agent-runtime', region_name='ap-southeast-2')\n",
    "model = \"Mistral Large (24.02)\"\n",
    "model_arn = f'arn:aws:bedrock:ap-southeast-2::foundation-model/mistral.mistral-large-2402-v1:0'"
   ]
  },
  {
   "cell_type": "code",
   "execution_count": 38,
   "metadata": {},
   "outputs": [],
   "source": [
    "def ask_bedrock_llm_with_knowledge_base(query: str, model_arn: str, kb_id: str) -> str:\n",
    "    response = bedrock_agent_runtime.retrieve_and_generate(\n",
    "        input={\n",
    "            'text': query\n",
    "        },\n",
    "        retrieveAndGenerateConfiguration={\n",
    "            'type': 'KNOWLEDGE_BASE',\n",
    "            'knowledgeBaseConfiguration': {\n",
    "                'knowledgeBaseId': kb_id,\n",
    "                'modelArn': model_arn\n",
    "            }\n",
    "        },\n",
    "    )\n",
    "\n",
    "    return response"
   ]
  },
  {
   "cell_type": "code",
   "execution_count": null,
   "metadata": {},
   "outputs": [],
   "source": [
    "query = \"can you recommend some movie for today?\"\n",
    "\n",
    "\n",
    "response = ask_bedrock_llm_with_knowledge_base(query, model_arn, knowledgeBase['knowledgeBaseId'])\n",
    "generated_text = response['output']['text']\n",
    "citations = response[\"citations\"]\n",
    "contexts = []\n",
    "for citation in citations:\n",
    "    retrievedReferences = citation[\"retrievedReferences\"]\n",
    "    for reference in retrievedReferences:\n",
    "        contexts.append(reference[\"content\"][\"text\"])\n",
    "print(f\"---------- Generated using {model}:\")\n",
    "print(generated_text )\n",
    "print(f'---------- The citations for the response generated by {model}:')\n",
    "print(contexts)\n",
    "print()"
   ]
  }
 ],
 "metadata": {
  "colab": {
   "name": "rag_engine_pinecone.ipynb",
   "toc_visible": true
  },
  "environment": {
   "kernel": "python3",
   "name": "tf2-gpu.2-15.m125",
   "type": "gcloud",
   "uri": "us-docker.pkg.dev/deeplearning-platform-release/gcr.io/tf2-gpu.2-15:m125"
  },
  "kernelspec": {
   "display_name": "3.12.7",
   "language": "python",
   "name": "python3"
  },
  "language_info": {
   "codemirror_mode": {
    "name": "ipython",
    "version": 3
   },
   "file_extension": ".py",
   "mimetype": "text/x-python",
   "name": "python",
   "nbconvert_exporter": "python",
   "pygments_lexer": "ipython3",
   "version": "3.11.6"
  }
 },
 "nbformat": 4,
 "nbformat_minor": 4
}
